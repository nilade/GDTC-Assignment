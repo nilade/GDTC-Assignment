{
 "cells": [
  {
   "cell_type": "code",
   "execution_count": 11,
   "id": "08f12a82",
   "metadata": {},
   "outputs": [],
   "source": [
    "# load the libraries\n",
    "import pandas as pd\n",
    "import numpy as np\n",
    "import seaborn as sns\n",
    "import matplotlib.pyplot as plt"
   ]
  },
  {
   "cell_type": "code",
   "execution_count": 12,
   "id": "559a5dac",
   "metadata": {},
   "outputs": [],
   "source": [
    "# reading the dataset file using pandas\n",
    "insurance_data=pd.read_csv(\"insurance_data.csv\")\n",
    "employee_data=pd.read_csv(\"employee_data.csv\")\n",
    "vendor_data=pd.read_csv(\"vendor_data.csv\")"
   ]
  },
  {
   "cell_type": "code",
   "execution_count": 13,
   "id": "169f32fe",
   "metadata": {},
   "outputs": [
    {
     "data": {
      "text/plain": [
       "(10000, 38)"
      ]
     },
     "execution_count": 13,
     "metadata": {},
     "output_type": "execute_result"
    }
   ],
   "source": [
    "# shows number of rows and columns in the dataset\n",
    "insurance_data.shape"
   ]
  },
  {
   "cell_type": "code",
   "execution_count": 14,
   "id": "52765e72",
   "metadata": {},
   "outputs": [
    {
     "data": {
      "text/plain": [
       "(1200, 10)"
      ]
     },
     "execution_count": 14,
     "metadata": {},
     "output_type": "execute_result"
    }
   ],
   "source": [
    "employee_data.shape"
   ]
  },
  {
   "cell_type": "code",
   "execution_count": 15,
   "id": "57e00099",
   "metadata": {},
   "outputs": [
    {
     "data": {
      "text/plain": [
       "(600, 7)"
      ]
     },
     "execution_count": 15,
     "metadata": {},
     "output_type": "execute_result"
    }
   ],
   "source": [
    "vendor_data.shape"
   ]
  },
  {
   "cell_type": "code",
   "execution_count": 16,
   "id": "3a4448a7",
   "metadata": {},
   "outputs": [
    {
     "name": "stdout",
     "output_type": "stream",
     "text": [
      "<class 'pandas.core.frame.DataFrame'>\n",
      "RangeIndex: 10000 entries, 0 to 9999\n",
      "Data columns (total 38 columns):\n",
      " #   Column                    Non-Null Count  Dtype  \n",
      "---  ------                    --------------  -----  \n",
      " 0   TXN_DATE_TIME             10000 non-null  object \n",
      " 1   TRANSACTION_ID            10000 non-null  object \n",
      " 2   CUSTOMER_ID               10000 non-null  object \n",
      " 3   POLICY_NUMBER             10000 non-null  object \n",
      " 4   POLICY_EFF_DT             10000 non-null  object \n",
      " 5   LOSS_DT                   10000 non-null  object \n",
      " 6   REPORT_DT                 10000 non-null  object \n",
      " 7   INSURANCE_TYPE            10000 non-null  object \n",
      " 8   PREMIUM_AMOUNT            10000 non-null  float64\n",
      " 9   CLAIM_AMOUNT              10000 non-null  int64  \n",
      " 10  CUSTOMER_NAME             10000 non-null  object \n",
      " 11  ADDRESS_LINE1             10000 non-null  object \n",
      " 12  ADDRESS_LINE2             1495 non-null   object \n",
      " 13  CITY                      9946 non-null   object \n",
      " 14  STATE                     10000 non-null  object \n",
      " 15  POSTAL_CODE               10000 non-null  int64  \n",
      " 16  SSN                       10000 non-null  object \n",
      " 17  MARITAL_STATUS            10000 non-null  object \n",
      " 18  AGE                       10000 non-null  int64  \n",
      " 19  TENURE                    10000 non-null  int64  \n",
      " 20  EMPLOYMENT_STATUS         10000 non-null  object \n",
      " 21  NO_OF_FAMILY_MEMBERS      10000 non-null  int64  \n",
      " 22  RISK_SEGMENTATION         10000 non-null  object \n",
      " 23  HOUSE_TYPE                10000 non-null  object \n",
      " 24  SOCIAL_CLASS              10000 non-null  object \n",
      " 25  ROUTING_NUMBER            10000 non-null  int64  \n",
      " 26  ACCT_NUMBER               10000 non-null  object \n",
      " 27  CUSTOMER_EDUCATION_LEVEL  9471 non-null   object \n",
      " 28  CLAIM_STATUS              10000 non-null  object \n",
      " 29  INCIDENT_SEVERITY         10000 non-null  object \n",
      " 30  AUTHORITY_CONTACTED       10000 non-null  object \n",
      " 31  ANY_INJURY                10000 non-null  int64  \n",
      " 32  POLICE_REPORT_AVAILABLE   10000 non-null  int64  \n",
      " 33  INCIDENT_STATE            10000 non-null  object \n",
      " 34  INCIDENT_CITY             9954 non-null   object \n",
      " 35  INCIDENT_HOUR_OF_THE_DAY  10000 non-null  int64  \n",
      " 36  AGENT_ID                  10000 non-null  object \n",
      " 37  VENDOR_ID                 6755 non-null   object \n",
      "dtypes: float64(1), int64(9), object(28)\n",
      "memory usage: 2.9+ MB\n"
     ]
    }
   ],
   "source": [
    "# information about dataset\n",
    "insurance_data.info()"
   ]
  },
  {
   "cell_type": "code",
   "execution_count": 17,
   "id": "054f6e8d",
   "metadata": {},
   "outputs": [
    {
     "name": "stdout",
     "output_type": "stream",
     "text": [
      "<class 'pandas.core.frame.DataFrame'>\n",
      "RangeIndex: 1200 entries, 0 to 1199\n",
      "Data columns (total 10 columns):\n",
      " #   Column              Non-Null Count  Dtype \n",
      "---  ------              --------------  ----- \n",
      " 0   AGENT_ID            1200 non-null   object\n",
      " 1   AGENT_NAME          1200 non-null   object\n",
      " 2   DATE_OF_JOINING     1200 non-null   object\n",
      " 3   ADDRESS_LINE1       1200 non-null   object\n",
      " 4   ADDRESS_LINE2       179 non-null    object\n",
      " 5   CITY                1193 non-null   object\n",
      " 6   STATE               1200 non-null   object\n",
      " 7   POSTAL_CODE         1200 non-null   int64 \n",
      " 8   EMP_ROUTING_NUMBER  1200 non-null   int64 \n",
      " 9   EMP_ACCT_NUMBER     1200 non-null   object\n",
      "dtypes: int64(2), object(8)\n",
      "memory usage: 93.9+ KB\n"
     ]
    }
   ],
   "source": [
    "employee_data.info()"
   ]
  },
  {
   "cell_type": "code",
   "execution_count": 18,
   "id": "990d9bb3",
   "metadata": {},
   "outputs": [
    {
     "name": "stdout",
     "output_type": "stream",
     "text": [
      "<class 'pandas.core.frame.DataFrame'>\n",
      "RangeIndex: 600 entries, 0 to 599\n",
      "Data columns (total 7 columns):\n",
      " #   Column         Non-Null Count  Dtype \n",
      "---  ------         --------------  ----- \n",
      " 0   VENDOR_ID      600 non-null    object\n",
      " 1   VENDOR_NAME    600 non-null    object\n",
      " 2   ADDRESS_LINE1  600 non-null    object\n",
      " 3   ADDRESS_LINE2  97 non-null     object\n",
      " 4   CITY           594 non-null    object\n",
      " 5   STATE          600 non-null    object\n",
      " 6   POSTAL_CODE    600 non-null    int64 \n",
      "dtypes: int64(1), object(6)\n",
      "memory usage: 32.9+ KB\n"
     ]
    }
   ],
   "source": [
    "vendor_data.info()"
   ]
  },
  {
   "cell_type": "markdown",
   "id": "45a8cba2",
   "metadata": {},
   "source": [
    "# Task 1\n",
    "\n",
    "**Merge the 3 dataset and create 1 view of data.\n",
    "You can merge insurance_data.csv and employee_data.csv on\n",
    "AGENT_ID You can merge insurance_data.csv and vendor_data.csv on\n",
    "VENDOR_ID Note: Use left Outer join as not all claims require Vendor**"
   ]
  },
  {
   "cell_type": "code",
   "execution_count": 19,
   "id": "c6524a5b",
   "metadata": {
    "scrolled": false
   },
   "outputs": [
    {
     "data": {
      "text/html": [
       "<div>\n",
       "<style scoped>\n",
       "    .dataframe tbody tr th:only-of-type {\n",
       "        vertical-align: middle;\n",
       "    }\n",
       "\n",
       "    .dataframe tbody tr th {\n",
       "        vertical-align: top;\n",
       "    }\n",
       "\n",
       "    .dataframe thead th {\n",
       "        text-align: right;\n",
       "    }\n",
       "</style>\n",
       "<table border=\"1\" class=\"dataframe\">\n",
       "  <thead>\n",
       "    <tr style=\"text-align: right;\">\n",
       "      <th></th>\n",
       "      <th>TXN_DATE_TIME</th>\n",
       "      <th>TRANSACTION_ID</th>\n",
       "      <th>CUSTOMER_ID</th>\n",
       "      <th>POLICY_NUMBER</th>\n",
       "      <th>POLICY_EFF_DT</th>\n",
       "      <th>LOSS_DT</th>\n",
       "      <th>REPORT_DT</th>\n",
       "      <th>INSURANCE_TYPE</th>\n",
       "      <th>PREMIUM_AMOUNT</th>\n",
       "      <th>CLAIM_AMOUNT</th>\n",
       "      <th>...</th>\n",
       "      <th>STATE_AGENT</th>\n",
       "      <th>POSTAL_CODE_AGENT</th>\n",
       "      <th>EMP_ROUTING_NUMBER</th>\n",
       "      <th>EMP_ACCT_NUMBER</th>\n",
       "      <th>VENDOR_NAME</th>\n",
       "      <th>ADDRESS_LINE1</th>\n",
       "      <th>ADDRESS_LINE2</th>\n",
       "      <th>CITY</th>\n",
       "      <th>STATE</th>\n",
       "      <th>POSTAL_CODE</th>\n",
       "    </tr>\n",
       "  </thead>\n",
       "  <tbody>\n",
       "    <tr>\n",
       "      <th>0</th>\n",
       "      <td>2020-06-01 00:00:00</td>\n",
       "      <td>TXN00000001</td>\n",
       "      <td>A00003822</td>\n",
       "      <td>PLC00008468</td>\n",
       "      <td>2015-06-23</td>\n",
       "      <td>2020-05-16</td>\n",
       "      <td>2020-05-21</td>\n",
       "      <td>Health</td>\n",
       "      <td>157.13</td>\n",
       "      <td>9000</td>\n",
       "      <td>...</td>\n",
       "      <td>TN</td>\n",
       "      <td>37217</td>\n",
       "      <td>35441155</td>\n",
       "      <td>LRZO53254369804934</td>\n",
       "      <td>Ramsey Inc</td>\n",
       "      <td>3114 West 20th Court</td>\n",
       "      <td>NaN</td>\n",
       "      <td>Panama City</td>\n",
       "      <td>FL</td>\n",
       "      <td>32405.0</td>\n",
       "    </tr>\n",
       "    <tr>\n",
       "      <th>1</th>\n",
       "      <td>2020-06-01 00:00:00</td>\n",
       "      <td>TXN00000002</td>\n",
       "      <td>A00008149</td>\n",
       "      <td>PLC00009594</td>\n",
       "      <td>2018-04-21</td>\n",
       "      <td>2020-05-13</td>\n",
       "      <td>2020-05-18</td>\n",
       "      <td>Property</td>\n",
       "      <td>141.71</td>\n",
       "      <td>26000</td>\n",
       "      <td>...</td>\n",
       "      <td>AZ</td>\n",
       "      <td>85301</td>\n",
       "      <td>44055451</td>\n",
       "      <td>XBYG14382904542874</td>\n",
       "      <td>Morales, Campbell and Washington</td>\n",
       "      <td>42 West Louise Street</td>\n",
       "      <td>B</td>\n",
       "      <td>Fayetteville</td>\n",
       "      <td>AR</td>\n",
       "      <td>72701.0</td>\n",
       "    </tr>\n",
       "    <tr>\n",
       "      <th>2</th>\n",
       "      <td>2020-06-01 00:00:00</td>\n",
       "      <td>TXN00000003</td>\n",
       "      <td>A00003172</td>\n",
       "      <td>PLC00007969</td>\n",
       "      <td>2019-10-03</td>\n",
       "      <td>2020-05-21</td>\n",
       "      <td>2020-05-26</td>\n",
       "      <td>Property</td>\n",
       "      <td>157.24</td>\n",
       "      <td>13000</td>\n",
       "      <td>...</td>\n",
       "      <td>AL</td>\n",
       "      <td>36105</td>\n",
       "      <td>55770246</td>\n",
       "      <td>WRXH14597428306333</td>\n",
       "      <td>Johnson Ltd</td>\n",
       "      <td>2619 North Quality Lane</td>\n",
       "      <td>#315</td>\n",
       "      <td>Fayetteville</td>\n",
       "      <td>AR</td>\n",
       "      <td>72703.0</td>\n",
       "    </tr>\n",
       "    <tr>\n",
       "      <th>3</th>\n",
       "      <td>2020-06-01 00:00:00</td>\n",
       "      <td>TXN00000004</td>\n",
       "      <td>A00007572</td>\n",
       "      <td>PLC00009292</td>\n",
       "      <td>2016-11-29</td>\n",
       "      <td>2020-05-14</td>\n",
       "      <td>2020-05-19</td>\n",
       "      <td>Health</td>\n",
       "      <td>172.87</td>\n",
       "      <td>16000</td>\n",
       "      <td>...</td>\n",
       "      <td>OK</td>\n",
       "      <td>73071</td>\n",
       "      <td>87652976</td>\n",
       "      <td>YEPN16077902472499</td>\n",
       "      <td>Blackwell-Foster</td>\n",
       "      <td>3609 Meadow Drive</td>\n",
       "      <td>NaN</td>\n",
       "      <td>Nashville</td>\n",
       "      <td>TN</td>\n",
       "      <td>37215.0</td>\n",
       "    </tr>\n",
       "    <tr>\n",
       "      <th>4</th>\n",
       "      <td>2020-06-01 00:00:00</td>\n",
       "      <td>TXN00000005</td>\n",
       "      <td>A00008173</td>\n",
       "      <td>PLC00000204</td>\n",
       "      <td>2011-12-26</td>\n",
       "      <td>2020-05-17</td>\n",
       "      <td>2020-05-22</td>\n",
       "      <td>Travel</td>\n",
       "      <td>88.53</td>\n",
       "      <td>3000</td>\n",
       "      <td>...</td>\n",
       "      <td>MD</td>\n",
       "      <td>21061</td>\n",
       "      <td>76119019</td>\n",
       "      <td>HZBK86544578578547</td>\n",
       "      <td>Evans-Scott</td>\n",
       "      <td>4001 19th Place Northeast</td>\n",
       "      <td>NaN</td>\n",
       "      <td>Washington</td>\n",
       "      <td>DC</td>\n",
       "      <td>20018.0</td>\n",
       "    </tr>\n",
       "    <tr>\n",
       "      <th>...</th>\n",
       "      <td>...</td>\n",
       "      <td>...</td>\n",
       "      <td>...</td>\n",
       "      <td>...</td>\n",
       "      <td>...</td>\n",
       "      <td>...</td>\n",
       "      <td>...</td>\n",
       "      <td>...</td>\n",
       "      <td>...</td>\n",
       "      <td>...</td>\n",
       "      <td>...</td>\n",
       "      <td>...</td>\n",
       "      <td>...</td>\n",
       "      <td>...</td>\n",
       "      <td>...</td>\n",
       "      <td>...</td>\n",
       "      <td>...</td>\n",
       "      <td>...</td>\n",
       "      <td>...</td>\n",
       "      <td>...</td>\n",
       "      <td>...</td>\n",
       "    </tr>\n",
       "    <tr>\n",
       "      <th>9995</th>\n",
       "      <td>2021-06-30 00:00:00</td>\n",
       "      <td>TXN00009996</td>\n",
       "      <td>A00006029</td>\n",
       "      <td>PLC00007245</td>\n",
       "      <td>2014-04-11</td>\n",
       "      <td>2021-06-25</td>\n",
       "      <td>2021-06-26</td>\n",
       "      <td>Motor</td>\n",
       "      <td>105.75</td>\n",
       "      <td>1000</td>\n",
       "      <td>...</td>\n",
       "      <td>AR</td>\n",
       "      <td>72703</td>\n",
       "      <td>35413882</td>\n",
       "      <td>LFOJ76068590051807</td>\n",
       "      <td>NaN</td>\n",
       "      <td>NaN</td>\n",
       "      <td>NaN</td>\n",
       "      <td>NaN</td>\n",
       "      <td>NaN</td>\n",
       "      <td>NaN</td>\n",
       "    </tr>\n",
       "    <tr>\n",
       "      <th>9996</th>\n",
       "      <td>2021-06-30 00:00:00</td>\n",
       "      <td>TXN00009997</td>\n",
       "      <td>A00003555</td>\n",
       "      <td>PLC00002590</td>\n",
       "      <td>2015-08-25</td>\n",
       "      <td>2021-06-12</td>\n",
       "      <td>2021-06-17</td>\n",
       "      <td>Life</td>\n",
       "      <td>64.59</td>\n",
       "      <td>67000</td>\n",
       "      <td>...</td>\n",
       "      <td>GA</td>\n",
       "      <td>31405</td>\n",
       "      <td>91206790</td>\n",
       "      <td>AHEF60771774635030</td>\n",
       "      <td>Newton, Hodges and Henry</td>\n",
       "      <td>32512 Christine Drive</td>\n",
       "      <td>NaN</td>\n",
       "      <td>Union City</td>\n",
       "      <td>CA</td>\n",
       "      <td>94587.0</td>\n",
       "    </tr>\n",
       "    <tr>\n",
       "      <th>9997</th>\n",
       "      <td>2021-06-30 00:00:00</td>\n",
       "      <td>TXN00009998</td>\n",
       "      <td>A00004230</td>\n",
       "      <td>PLC00006613</td>\n",
       "      <td>2018-10-11</td>\n",
       "      <td>2021-06-18</td>\n",
       "      <td>2021-06-23</td>\n",
       "      <td>Health</td>\n",
       "      <td>183.50</td>\n",
       "      <td>8000</td>\n",
       "      <td>...</td>\n",
       "      <td>KY</td>\n",
       "      <td>40272</td>\n",
       "      <td>115241097</td>\n",
       "      <td>WREH18805592939657</td>\n",
       "      <td>Reese-Mckinney</td>\n",
       "      <td>20 Garfield Street</td>\n",
       "      <td>NaN</td>\n",
       "      <td>Needham</td>\n",
       "      <td>MA</td>\n",
       "      <td>2492.0</td>\n",
       "    </tr>\n",
       "    <tr>\n",
       "      <th>9998</th>\n",
       "      <td>2021-06-30 00:00:00</td>\n",
       "      <td>TXN00009999</td>\n",
       "      <td>A00006694</td>\n",
       "      <td>PLC00001781</td>\n",
       "      <td>2016-01-29</td>\n",
       "      <td>2021-06-16</td>\n",
       "      <td>2021-06-21</td>\n",
       "      <td>Motor</td>\n",
       "      <td>113.46</td>\n",
       "      <td>2000</td>\n",
       "      <td>...</td>\n",
       "      <td>AR</td>\n",
       "      <td>72703</td>\n",
       "      <td>13995380</td>\n",
       "      <td>AAZI21883736448048</td>\n",
       "      <td>Harmon, Manning and Bradley</td>\n",
       "      <td>1823 Dinger Road</td>\n",
       "      <td>NaN</td>\n",
       "      <td>Annapolis</td>\n",
       "      <td>MD</td>\n",
       "      <td>21402.0</td>\n",
       "    </tr>\n",
       "    <tr>\n",
       "      <th>9999</th>\n",
       "      <td>2021-06-30 00:00:00</td>\n",
       "      <td>TXN00010000</td>\n",
       "      <td>A00000390</td>\n",
       "      <td>PLC00005197</td>\n",
       "      <td>2014-09-17</td>\n",
       "      <td>2021-06-21</td>\n",
       "      <td>2021-06-24</td>\n",
       "      <td>Mobile</td>\n",
       "      <td>8.22</td>\n",
       "      <td>300</td>\n",
       "      <td>...</td>\n",
       "      <td>OK</td>\n",
       "      <td>73003</td>\n",
       "      <td>39790996</td>\n",
       "      <td>RPES05613584687957</td>\n",
       "      <td>Foster-Sanchez</td>\n",
       "      <td>4255 Tanager Common</td>\n",
       "      <td>NaN</td>\n",
       "      <td>Fremont</td>\n",
       "      <td>CA</td>\n",
       "      <td>94555.0</td>\n",
       "    </tr>\n",
       "  </tbody>\n",
       "</table>\n",
       "<p>10000 rows × 53 columns</p>\n",
       "</div>"
      ],
      "text/plain": [
       "            TXN_DATE_TIME TRANSACTION_ID CUSTOMER_ID POLICY_NUMBER  \\\n",
       "0     2020-06-01 00:00:00    TXN00000001   A00003822   PLC00008468   \n",
       "1     2020-06-01 00:00:00    TXN00000002   A00008149   PLC00009594   \n",
       "2     2020-06-01 00:00:00    TXN00000003   A00003172   PLC00007969   \n",
       "3     2020-06-01 00:00:00    TXN00000004   A00007572   PLC00009292   \n",
       "4     2020-06-01 00:00:00    TXN00000005   A00008173   PLC00000204   \n",
       "...                   ...            ...         ...           ...   \n",
       "9995  2021-06-30 00:00:00    TXN00009996   A00006029   PLC00007245   \n",
       "9996  2021-06-30 00:00:00    TXN00009997   A00003555   PLC00002590   \n",
       "9997  2021-06-30 00:00:00    TXN00009998   A00004230   PLC00006613   \n",
       "9998  2021-06-30 00:00:00    TXN00009999   A00006694   PLC00001781   \n",
       "9999  2021-06-30 00:00:00    TXN00010000   A00000390   PLC00005197   \n",
       "\n",
       "     POLICY_EFF_DT     LOSS_DT   REPORT_DT INSURANCE_TYPE  PREMIUM_AMOUNT  \\\n",
       "0       2015-06-23  2020-05-16  2020-05-21         Health          157.13   \n",
       "1       2018-04-21  2020-05-13  2020-05-18       Property          141.71   \n",
       "2       2019-10-03  2020-05-21  2020-05-26       Property          157.24   \n",
       "3       2016-11-29  2020-05-14  2020-05-19         Health          172.87   \n",
       "4       2011-12-26  2020-05-17  2020-05-22         Travel           88.53   \n",
       "...            ...         ...         ...            ...             ...   \n",
       "9995    2014-04-11  2021-06-25  2021-06-26          Motor          105.75   \n",
       "9996    2015-08-25  2021-06-12  2021-06-17           Life           64.59   \n",
       "9997    2018-10-11  2021-06-18  2021-06-23         Health          183.50   \n",
       "9998    2016-01-29  2021-06-16  2021-06-21          Motor          113.46   \n",
       "9999    2014-09-17  2021-06-21  2021-06-24         Mobile            8.22   \n",
       "\n",
       "      CLAIM_AMOUNT  ... STATE_AGENT POSTAL_CODE_AGENT EMP_ROUTING_NUMBER  \\\n",
       "0             9000  ...          TN             37217           35441155   \n",
       "1            26000  ...          AZ             85301           44055451   \n",
       "2            13000  ...          AL             36105           55770246   \n",
       "3            16000  ...          OK             73071           87652976   \n",
       "4             3000  ...          MD             21061           76119019   \n",
       "...            ...  ...         ...               ...                ...   \n",
       "9995          1000  ...          AR             72703           35413882   \n",
       "9996         67000  ...          GA             31405           91206790   \n",
       "9997          8000  ...          KY             40272          115241097   \n",
       "9998          2000  ...          AR             72703           13995380   \n",
       "9999           300  ...          OK             73003           39790996   \n",
       "\n",
       "         EMP_ACCT_NUMBER                       VENDOR_NAME  \\\n",
       "0     LRZO53254369804934                        Ramsey Inc   \n",
       "1     XBYG14382904542874  Morales, Campbell and Washington   \n",
       "2     WRXH14597428306333                       Johnson Ltd   \n",
       "3     YEPN16077902472499                  Blackwell-Foster   \n",
       "4     HZBK86544578578547                       Evans-Scott   \n",
       "...                  ...                               ...   \n",
       "9995  LFOJ76068590051807                               NaN   \n",
       "9996  AHEF60771774635030          Newton, Hodges and Henry   \n",
       "9997  WREH18805592939657                    Reese-Mckinney   \n",
       "9998  AAZI21883736448048       Harmon, Manning and Bradley   \n",
       "9999  RPES05613584687957                    Foster-Sanchez   \n",
       "\n",
       "                  ADDRESS_LINE1 ADDRESS_LINE2          CITY  STATE  \\\n",
       "0          3114 West 20th Court           NaN   Panama City     FL   \n",
       "1         42 West Louise Street             B  Fayetteville     AR   \n",
       "2       2619 North Quality Lane          #315  Fayetteville     AR   \n",
       "3             3609 Meadow Drive           NaN     Nashville     TN   \n",
       "4     4001 19th Place Northeast           NaN    Washington     DC   \n",
       "...                         ...           ...           ...    ...   \n",
       "9995                        NaN           NaN           NaN    NaN   \n",
       "9996      32512 Christine Drive           NaN    Union City     CA   \n",
       "9997         20 Garfield Street           NaN       Needham     MA   \n",
       "9998           1823 Dinger Road           NaN     Annapolis     MD   \n",
       "9999        4255 Tanager Common           NaN       Fremont     CA   \n",
       "\n",
       "      POSTAL_CODE  \n",
       "0         32405.0  \n",
       "1         72701.0  \n",
       "2         72703.0  \n",
       "3         37215.0  \n",
       "4         20018.0  \n",
       "...           ...  \n",
       "9995          NaN  \n",
       "9996      94587.0  \n",
       "9997       2492.0  \n",
       "9998      21402.0  \n",
       "9999      94555.0  \n",
       "\n",
       "[10000 rows x 53 columns]"
      ]
     },
     "execution_count": 19,
     "metadata": {},
     "output_type": "execute_result"
    }
   ],
   "source": [
    "# Merging dataframes with appropriate suffixes for future reference\n",
    "view=pd.merge(insurance_data,employee_data,on='AGENT_ID',how='left',suffixes=('_CUSTOMER','_AGENT'))\n",
    "data=pd.merge(view,vendor_data,on='VENDOR_ID',how='left')\n",
    "data"
   ]
  },
  {
   "cell_type": "code",
   "execution_count": 20,
   "id": "d80289da",
   "metadata": {},
   "outputs": [
    {
     "name": "stdout",
     "output_type": "stream",
     "text": [
      "<class 'pandas.core.frame.DataFrame'>\n",
      "Int64Index: 10000 entries, 0 to 9999\n",
      "Data columns (total 53 columns):\n",
      " #   Column                    Non-Null Count  Dtype  \n",
      "---  ------                    --------------  -----  \n",
      " 0   TXN_DATE_TIME             10000 non-null  object \n",
      " 1   TRANSACTION_ID            10000 non-null  object \n",
      " 2   CUSTOMER_ID               10000 non-null  object \n",
      " 3   POLICY_NUMBER             10000 non-null  object \n",
      " 4   POLICY_EFF_DT             10000 non-null  object \n",
      " 5   LOSS_DT                   10000 non-null  object \n",
      " 6   REPORT_DT                 10000 non-null  object \n",
      " 7   INSURANCE_TYPE            10000 non-null  object \n",
      " 8   PREMIUM_AMOUNT            10000 non-null  float64\n",
      " 9   CLAIM_AMOUNT              10000 non-null  int64  \n",
      " 10  CUSTOMER_NAME             10000 non-null  object \n",
      " 11  ADDRESS_LINE1_CUSTOMER    10000 non-null  object \n",
      " 12  ADDRESS_LINE2_CUSTOMER    1495 non-null   object \n",
      " 13  CITY_CUSTOMER             9946 non-null   object \n",
      " 14  STATE_CUSTOMER            10000 non-null  object \n",
      " 15  POSTAL_CODE_CUSTOMER      10000 non-null  int64  \n",
      " 16  SSN                       10000 non-null  object \n",
      " 17  MARITAL_STATUS            10000 non-null  object \n",
      " 18  AGE                       10000 non-null  int64  \n",
      " 19  TENURE                    10000 non-null  int64  \n",
      " 20  EMPLOYMENT_STATUS         10000 non-null  object \n",
      " 21  NO_OF_FAMILY_MEMBERS      10000 non-null  int64  \n",
      " 22  RISK_SEGMENTATION         10000 non-null  object \n",
      " 23  HOUSE_TYPE                10000 non-null  object \n",
      " 24  SOCIAL_CLASS              10000 non-null  object \n",
      " 25  ROUTING_NUMBER            10000 non-null  int64  \n",
      " 26  ACCT_NUMBER               10000 non-null  object \n",
      " 27  CUSTOMER_EDUCATION_LEVEL  9471 non-null   object \n",
      " 28  CLAIM_STATUS              10000 non-null  object \n",
      " 29  INCIDENT_SEVERITY         10000 non-null  object \n",
      " 30  AUTHORITY_CONTACTED       10000 non-null  object \n",
      " 31  ANY_INJURY                10000 non-null  int64  \n",
      " 32  POLICE_REPORT_AVAILABLE   10000 non-null  int64  \n",
      " 33  INCIDENT_STATE            10000 non-null  object \n",
      " 34  INCIDENT_CITY             9954 non-null   object \n",
      " 35  INCIDENT_HOUR_OF_THE_DAY  10000 non-null  int64  \n",
      " 36  AGENT_ID                  10000 non-null  object \n",
      " 37  VENDOR_ID                 6755 non-null   object \n",
      " 38  AGENT_NAME                10000 non-null  object \n",
      " 39  DATE_OF_JOINING           10000 non-null  object \n",
      " 40  ADDRESS_LINE1_AGENT       10000 non-null  object \n",
      " 41  ADDRESS_LINE2_AGENT       1451 non-null   object \n",
      " 42  CITY_AGENT                9946 non-null   object \n",
      " 43  STATE_AGENT               10000 non-null  object \n",
      " 44  POSTAL_CODE_AGENT         10000 non-null  int64  \n",
      " 45  EMP_ROUTING_NUMBER        10000 non-null  int64  \n",
      " 46  EMP_ACCT_NUMBER           10000 non-null  object \n",
      " 47  VENDOR_NAME               6755 non-null   object \n",
      " 48  ADDRESS_LINE1             6755 non-null   object \n",
      " 49  ADDRESS_LINE2             1145 non-null   object \n",
      " 50  CITY                      6713 non-null   object \n",
      " 51  STATE                     6755 non-null   object \n",
      " 52  POSTAL_CODE               6755 non-null   float64\n",
      "dtypes: float64(2), int64(11), object(40)\n",
      "memory usage: 4.1+ MB\n"
     ]
    }
   ],
   "source": [
    "data.info()"
   ]
  },
  {
   "cell_type": "markdown",
   "id": "7aee6baa",
   "metadata": {},
   "source": [
    "# Task 2\n",
    "\n",
    "**Business Leader wants to find Top 3 Insurance Type where we are getting\n",
    "most insurance claims?**"
   ]
  },
  {
   "cell_type": "code",
   "execution_count": 21,
   "id": "817644ef",
   "metadata": {},
   "outputs": [],
   "source": [
    "insureance_name=insurance_data.INSURANCE_TYPE.value_counts().index\n",
    "insureance_val=insurance_data.INSURANCE_TYPE.value_counts().values"
   ]
  },
  {
   "cell_type": "code",
   "execution_count": 22,
   "id": "c1543761",
   "metadata": {},
   "outputs": [
    {
     "name": "stdout",
     "output_type": "stream",
     "text": [
      "Property    1692\n",
      "Mobile      1692\n",
      "Health      1690\n",
      "Name: INSURANCE_TYPE, dtype: int64\n"
     ]
    },
    {
     "data": {
      "image/png": "[encoded data removed]",
      "text/plain": [
       "<Figure size 432x288 with 1 Axes>"
      ]
     },
     "metadata": {},
     "output_type": "display_data"
    }
   ],
   "source": [
    "plt.pie(insureance_val, labels=insureance_name,autopct=\"%1.2f%%\" )\n",
    "print(insurance_data.INSURANCE_TYPE.value_counts()[:3])"
   ]
  },
  {
   "cell_type": "markdown",
   "id": "730b3baa",
   "metadata": {},
   "source": [
    "**Top 3 Insurance Type where we are getting most insurance claims are,**\n",
    "\n",
    "**Mobile with 1692 claims,**\n",
    "\n",
    "**Property with 1692 claims,**\n",
    "\n",
    "**Health with 1690 claims**"
   ]
  },
  {
   "cell_type": "markdown",
   "id": "0824b471",
   "metadata": {},
   "source": [
    "# Task 3\n",
    "\n",
    "**Business Leader wants to find Top 5 States where we are getting most insurance claims\n",
    "for customer belonging to HIGH(H) risk segment?**\n"
   ]
  },
  {
   "cell_type": "code",
   "execution_count": 23,
   "id": "92f20b6a",
   "metadata": {
    "scrolled": true
   },
   "outputs": [
    {
     "data": {
      "text/plain": [
       "CA    148\n",
       "AZ    105\n",
       "FL    104\n",
       "TN    100\n",
       "AR     97\n",
       "Name: STATE, dtype: int64"
      ]
     },
     "execution_count": 23,
     "metadata": {},
     "output_type": "execute_result"
    }
   ],
   "source": [
    "insurance_data[insurance_data['RISK_SEGMENTATION']=='H'].STATE.value_counts()[:5]"
   ]
  },
  {
   "cell_type": "markdown",
   "id": "3246ee71",
   "metadata": {},
   "source": [
    "Top 5 States where we are getting most insurance claims for customers belonging to HIGH(H) risk segment are,\n",
    "\n",
    "CA\n",
    "\n",
    "AZ\n",
    "\n",
    "FL\n",
    "\n",
    "TN\n",
    "\n",
    "AR"
   ]
  },
  {
   "cell_type": "markdown",
   "id": "63d99b15",
   "metadata": {},
   "source": [
    "# Task 4\n",
    "\n",
    "**Business wants to create a new variable “COLOCATION” which will have following values IF\n",
    "Customer State == Incident State == Agent Address State THEN 1 ELSE 0\n",
    "Find the mean of this new column**"
   ]
  },
  {
   "cell_type": "code",
   "execution_count": 24,
   "id": "50727da5",
   "metadata": {},
   "outputs": [],
   "source": [
    "# The columns above in view with no suffixes represent column of vendor data.\n",
    "data['COLOCATION'] = (data['STATE_CUSTOMER']==data['INCIDENT_STATE'])&(data['INCIDENT_STATE']==data['STATE_AGENT'])"
   ]
  },
  {
   "cell_type": "code",
   "execution_count": 25,
   "id": "ed12fc58",
   "metadata": {},
   "outputs": [],
   "source": [
    "# changing column vaues from True to 1 and False to 0\n",
    "data['COLOCATION']=data.COLOCATION.astype('int')"
   ]
  },
  {
   "cell_type": "code",
   "execution_count": 26,
   "id": "b3772946",
   "metadata": {},
   "outputs": [
    {
     "data": {
      "text/plain": [
       "0.0044"
      ]
     },
     "execution_count": 26,
     "metadata": {},
     "output_type": "execute_result"
    }
   ],
   "source": [
    "data.COLOCATION.mean()"
   ]
  },
  {
   "cell_type": "markdown",
   "id": "3b952524",
   "metadata": {},
   "source": [
    "**The mean of COLOCATION column is 0.0044**"
   ]
  },
  {
   "cell_type": "markdown",
   "id": "c2f31207",
   "metadata": {},
   "source": [
    "# Task 5\n",
    "\n",
    "**Data entry error was detected in the data and you are required to correct it. If for any\n",
    "claim transaction “AUTHORITY_CONTACTED” is NOT “Police” and POLICE_AVAILABLE == 1\n",
    "Then Update “AUTHORITY_CONTACTED” to Police.**\n"
   ]
  },
  {
   "cell_type": "code",
   "execution_count": 27,
   "id": "f97e94e1",
   "metadata": {},
   "outputs": [],
   "source": [
    "non_police = data[data['AUTHORITY_CONTACTED']!='Police']\n",
    "update_rows = non_police[non_police['POLICE_REPORT_AVAILABLE']==1].index"
   ]
  },
  {
   "cell_type": "code",
   "execution_count": 28,
   "id": "6844ee60",
   "metadata": {},
   "outputs": [],
   "source": [
    "# Updating the Authority column\n",
    "data.loc[update_rows,'AUTHORITY_CONTACTED'] = 'Police'"
   ]
  },
  {
   "cell_type": "code",
   "execution_count": 29,
   "id": "c2ce8da9",
   "metadata": {},
   "outputs": [
    {
     "data": {
      "text/html": [
       "<div>\n",
       "<style scoped>\n",
       "    .dataframe tbody tr th:only-of-type {\n",
       "        vertical-align: middle;\n",
       "    }\n",
       "\n",
       "    .dataframe tbody tr th {\n",
       "        vertical-align: top;\n",
       "    }\n",
       "\n",
       "    .dataframe thead th {\n",
       "        text-align: right;\n",
       "    }\n",
       "</style>\n",
       "<table border=\"1\" class=\"dataframe\">\n",
       "  <thead>\n",
       "    <tr style=\"text-align: right;\">\n",
       "      <th></th>\n",
       "      <th>TXN_DATE_TIME</th>\n",
       "      <th>TRANSACTION_ID</th>\n",
       "      <th>CUSTOMER_ID</th>\n",
       "      <th>POLICY_NUMBER</th>\n",
       "      <th>POLICY_EFF_DT</th>\n",
       "      <th>LOSS_DT</th>\n",
       "      <th>REPORT_DT</th>\n",
       "      <th>INSURANCE_TYPE</th>\n",
       "      <th>PREMIUM_AMOUNT</th>\n",
       "      <th>CLAIM_AMOUNT</th>\n",
       "      <th>...</th>\n",
       "      <th>POSTAL_CODE_AGENT</th>\n",
       "      <th>EMP_ROUTING_NUMBER</th>\n",
       "      <th>EMP_ACCT_NUMBER</th>\n",
       "      <th>VENDOR_NAME</th>\n",
       "      <th>ADDRESS_LINE1</th>\n",
       "      <th>ADDRESS_LINE2</th>\n",
       "      <th>CITY</th>\n",
       "      <th>STATE</th>\n",
       "      <th>POSTAL_CODE</th>\n",
       "      <th>COLOCATION</th>\n",
       "    </tr>\n",
       "  </thead>\n",
       "  <tbody>\n",
       "  </tbody>\n",
       "</table>\n",
       "<p>0 rows × 54 columns</p>\n",
       "</div>"
      ],
      "text/plain": [
       "Empty DataFrame\n",
       "Columns: [TXN_DATE_TIME, TRANSACTION_ID, CUSTOMER_ID, POLICY_NUMBER, POLICY_EFF_DT, LOSS_DT, REPORT_DT, INSURANCE_TYPE, PREMIUM_AMOUNT, CLAIM_AMOUNT, CUSTOMER_NAME, ADDRESS_LINE1_CUSTOMER, ADDRESS_LINE2_CUSTOMER, CITY_CUSTOMER, STATE_CUSTOMER, POSTAL_CODE_CUSTOMER, SSN, MARITAL_STATUS, AGE, TENURE, EMPLOYMENT_STATUS, NO_OF_FAMILY_MEMBERS, RISK_SEGMENTATION, HOUSE_TYPE, SOCIAL_CLASS, ROUTING_NUMBER, ACCT_NUMBER, CUSTOMER_EDUCATION_LEVEL, CLAIM_STATUS, INCIDENT_SEVERITY, AUTHORITY_CONTACTED, ANY_INJURY, POLICE_REPORT_AVAILABLE, INCIDENT_STATE, INCIDENT_CITY, INCIDENT_HOUR_OF_THE_DAY, AGENT_ID, VENDOR_ID, AGENT_NAME, DATE_OF_JOINING, ADDRESS_LINE1_AGENT, ADDRESS_LINE2_AGENT, CITY_AGENT, STATE_AGENT, POSTAL_CODE_AGENT, EMP_ROUTING_NUMBER, EMP_ACCT_NUMBER, VENDOR_NAME, ADDRESS_LINE1, ADDRESS_LINE2, CITY, STATE, POSTAL_CODE, COLOCATION]\n",
       "Index: []\n",
       "\n",
       "[0 rows x 54 columns]"
      ]
     },
     "execution_count": 29,
     "metadata": {},
     "output_type": "execute_result"
    }
   ],
   "source": [
    "# Checking\n",
    "data[(data['POLICE_REPORT_AVAILABLE']==1)&(data['AUTHORITY_CONTACTED']!='Police')]"
   ]
  },
  {
   "cell_type": "markdown",
   "id": "6e631b73",
   "metadata": {},
   "source": [
    "# Task 6\n",
    "\n",
    "**Business wants to check the Claim Amount for deviation for each transaction, they would\n",
    "like you to calculate as follow\n",
    "CLAIM_DEVIATION = AVG_CLAIM_AMOUNT_FOR_LAST_30DAYS (same insurance type)\n",
    "/ CURRENT_CLAIM_AMOUNT\n",
    "If the value < 0.5 THEN CLAIM_DEVIATION = 1 ELSE 0\n",
    "If there is less than 30 days of transaction history THEN\n",
    "-1 Note: LAST_30DAYS does not include current day**"
   ]
  },
  {
   "cell_type": "code",
   "execution_count": 30,
   "id": "9e446f6b",
   "metadata": {},
   "outputs": [
    {
     "data": {
      "text/plain": [
       "'2021-06-30 00:00:00'"
      ]
     },
     "execution_count": 30,
     "metadata": {},
     "output_type": "execute_result"
    }
   ],
   "source": [
    "data.TXN_DATE_TIME.max()"
   ]
  },
  {
   "cell_type": "code",
   "execution_count": 31,
   "id": "11dff746",
   "metadata": {},
   "outputs": [],
   "source": [
    "curr_date = pd.to_datetime('2021-06-30')"
   ]
  },
  {
   "cell_type": "code",
   "execution_count": 32,
   "id": "8c5a4725",
   "metadata": {},
   "outputs": [],
   "source": [
    "data['TXN_DATE_TIME'] = pd.to_datetime(data['TXN_DATE_TIME'])"
   ]
  },
  {
   "cell_type": "code",
   "execution_count": 33,
   "id": "6e5bd9f6",
   "metadata": {},
   "outputs": [],
   "source": [
    "# data with last 30 days data\n",
    "last_30 = data.loc[(data['TXN_DATE_TIME'] > '2021-05-30') & (data['TXN_DATE_TIME'] < '2021-06-30')]  "
   ]
  },
  {
   "cell_type": "code",
   "execution_count": 34,
   "id": "ca7aceb0",
   "metadata": {},
   "outputs": [],
   "source": [
    "# Getting average claim of last 30 days insurance type wise and storing it in dictionary\n",
    "average_claim = last_30.groupby('INSURANCE_TYPE').mean()['CLAIM_AMOUNT'].to_dict()"
   ]
  },
  {
   "cell_type": "code",
   "execution_count": 35,
   "id": "49c6cfc9",
   "metadata": {},
   "outputs": [],
   "source": [
    "# defining a function for calculating claim_deviation\n",
    "def Claim_deviation(row):\n",
    "    if (curr_date - row['TXN_DATE_TIME'])<pd.Timedelta(days=30):\n",
    "        return -1\n",
    "    claim_deviation = average_claim[row['INSURANCE_TYPE']] / row['CLAIM_AMOUNT']\n",
    "    if claim_deviation < 0.5:\n",
    "        return 1\n",
    "    else:\n",
    "        return 0"
   ]
  },
  {
   "cell_type": "code",
   "execution_count": 36,
   "id": "f349188a",
   "metadata": {},
   "outputs": [],
   "source": [
    "# Applying the function to the dataframe\n",
    "data['CLAIM_DEVIATION'] = data.apply(Claim_deviation,axis=1)"
   ]
  },
  {
   "cell_type": "code",
   "execution_count": 37,
   "id": "da5157a5",
   "metadata": {},
   "outputs": [
    {
     "data": {
      "text/plain": [
       " 0    9216\n",
       "-1     784\n",
       "Name: CLAIM_DEVIATION, dtype: int64"
      ]
     },
     "execution_count": 37,
     "metadata": {},
     "output_type": "execute_result"
    }
   ],
   "source": [
    "data.CLAIM_DEVIATION.value_counts()"
   ]
  },
  {
   "cell_type": "markdown",
   "id": "0de0df8d",
   "metadata": {},
   "source": [
    "**There are 9216 claims with deviation less than 0.5\n",
    "784 claims with transaction history of less than 30 days**"
   ]
  },
  {
   "cell_type": "markdown",
   "id": "465d7ce4",
   "metadata": {},
   "source": [
    "# Task 7\n",
    "\n",
    "**Find All Agents who have worked on more than 2 types of Insurance Claims. Sort them by\n",
    "Total Claim Amount Approved under them in descending order**"
   ]
  },
  {
   "cell_type": "code",
   "execution_count": 38,
   "id": "51561574",
   "metadata": {},
   "outputs": [],
   "source": [
    "# calculating insurance types worked on of each agent\n",
    "type_count = data.groupby('AGENT_ID')['INSURANCE_TYPE'].nunique()"
   ]
  },
  {
   "cell_type": "code",
   "execution_count": 39,
   "id": "bae25808",
   "metadata": {},
   "outputs": [],
   "source": [
    "# Calculating wheather agent has more than 2 insurance types\n",
    "agent_insurance_types = type_count>2"
   ]
  },
  {
   "cell_type": "code",
   "execution_count": 40,
   "id": "c2f0f4df",
   "metadata": {},
   "outputs": [],
   "source": [
    "# getting list of agents who have worked on more than 2 types of insurance types\n",
    "multi_type_agents = agent_insurance_types[agent_insurance_types].index"
   ]
  },
  {
   "cell_type": "code",
   "execution_count": 41,
   "id": "57b9bb73",
   "metadata": {},
   "outputs": [],
   "source": [
    "Top_agents = data.groupby(['AGENT_ID','AGENT_NAME']).sum().loc[multi_type_agents][['CLAIM_AMOUNT']].sort_values('CLAIM_AMOUNT',ascending=False)"
   ]
  },
  {
   "cell_type": "code",
   "execution_count": 42,
   "id": "477bb379",
   "metadata": {},
   "outputs": [
    {
     "data": {
      "text/html": [
       "<div>\n",
       "<style scoped>\n",
       "    .dataframe tbody tr th:only-of-type {\n",
       "        vertical-align: middle;\n",
       "    }\n",
       "\n",
       "    .dataframe tbody tr th {\n",
       "        vertical-align: top;\n",
       "    }\n",
       "\n",
       "    .dataframe thead th {\n",
       "        text-align: right;\n",
       "    }\n",
       "</style>\n",
       "<table border=\"1\" class=\"dataframe\">\n",
       "  <thead>\n",
       "    <tr style=\"text-align: right;\">\n",
       "      <th></th>\n",
       "      <th></th>\n",
       "      <th>CLAIM_AMOUNT</th>\n",
       "    </tr>\n",
       "    <tr>\n",
       "      <th>AGENT_ID</th>\n",
       "      <th>AGENT_NAME</th>\n",
       "      <th></th>\n",
       "    </tr>\n",
       "  </thead>\n",
       "  <tbody>\n",
       "    <tr>\n",
       "      <th>AGENT00807</th>\n",
       "      <th>Don Filkins</th>\n",
       "      <td>528800</td>\n",
       "    </tr>\n",
       "    <tr>\n",
       "      <th>AGENT00679</th>\n",
       "      <th>Clara Barnett</th>\n",
       "      <td>489000</td>\n",
       "    </tr>\n",
       "    <tr>\n",
       "      <th>AGENT00771</th>\n",
       "      <th>Roger Burns</th>\n",
       "      <td>422100</td>\n",
       "    </tr>\n",
       "    <tr>\n",
       "      <th>AGENT00125</th>\n",
       "      <th>Salvador Soriano</th>\n",
       "      <td>400400</td>\n",
       "    </tr>\n",
       "    <tr>\n",
       "      <th>AGENT00789</th>\n",
       "      <th>Alison Baron</th>\n",
       "      <td>392900</td>\n",
       "    </tr>\n",
       "    <tr>\n",
       "      <th>...</th>\n",
       "      <th>...</th>\n",
       "      <td>...</td>\n",
       "    </tr>\n",
       "    <tr>\n",
       "      <th>AGENT00910</th>\n",
       "      <th>Vincent Ragan</th>\n",
       "      <td>15500</td>\n",
       "    </tr>\n",
       "    <tr>\n",
       "      <th>AGENT00689</th>\n",
       "      <th>Connie Hunt</th>\n",
       "      <td>13700</td>\n",
       "    </tr>\n",
       "    <tr>\n",
       "      <th>AGENT00732</th>\n",
       "      <th>Sylvia Tran</th>\n",
       "      <td>11300</td>\n",
       "    </tr>\n",
       "    <tr>\n",
       "      <th>AGENT00706</th>\n",
       "      <th>Laura Staggs</th>\n",
       "      <td>10800</td>\n",
       "    </tr>\n",
       "    <tr>\n",
       "      <th>AGENT00604</th>\n",
       "      <th>Thelma Salinas</th>\n",
       "      <td>5500</td>\n",
       "    </tr>\n",
       "  </tbody>\n",
       "</table>\n",
       "<p>1164 rows × 1 columns</p>\n",
       "</div>"
      ],
      "text/plain": [
       "                             CLAIM_AMOUNT\n",
       "AGENT_ID   AGENT_NAME                    \n",
       "AGENT00807 Don Filkins             528800\n",
       "AGENT00679 Clara Barnett           489000\n",
       "AGENT00771 Roger Burns             422100\n",
       "AGENT00125 Salvador Soriano        400400\n",
       "AGENT00789 Alison Baron            392900\n",
       "...                                   ...\n",
       "AGENT00910 Vincent Ragan            15500\n",
       "AGENT00689 Connie Hunt              13700\n",
       "AGENT00732 Sylvia Tran              11300\n",
       "AGENT00706 Laura Staggs             10800\n",
       "AGENT00604 Thelma Salinas            5500\n",
       "\n",
       "[1164 rows x 1 columns]"
      ]
     },
     "execution_count": 42,
     "metadata": {},
     "output_type": "execute_result"
    }
   ],
   "source": [
    "Top_agents"
   ]
  },
  {
   "cell_type": "code",
   "execution_count": 43,
   "id": "ef5c9c1a",
   "metadata": {},
   "outputs": [
    {
     "data": {
      "text/html": [
       "<div>\n",
       "<style scoped>\n",
       "    .dataframe tbody tr th:only-of-type {\n",
       "        vertical-align: middle;\n",
       "    }\n",
       "\n",
       "    .dataframe tbody tr th {\n",
       "        vertical-align: top;\n",
       "    }\n",
       "\n",
       "    .dataframe thead th {\n",
       "        text-align: right;\n",
       "    }\n",
       "</style>\n",
       "<table border=\"1\" class=\"dataframe\">\n",
       "  <thead>\n",
       "    <tr style=\"text-align: right;\">\n",
       "      <th></th>\n",
       "      <th></th>\n",
       "      <th>CLAIM_AMOUNT</th>\n",
       "      <th>INSURANCE_TYPE</th>\n",
       "    </tr>\n",
       "    <tr>\n",
       "      <th>AGENT_ID</th>\n",
       "      <th>AGENT_NAME</th>\n",
       "      <th></th>\n",
       "      <th></th>\n",
       "    </tr>\n",
       "  </thead>\n",
       "  <tbody>\n",
       "    <tr>\n",
       "      <th>AGENT00807</th>\n",
       "      <th>Don Filkins</th>\n",
       "      <td>528800</td>\n",
       "      <td>6</td>\n",
       "    </tr>\n",
       "    <tr>\n",
       "      <th>AGENT00679</th>\n",
       "      <th>Clara Barnett</th>\n",
       "      <td>489000</td>\n",
       "      <td>4</td>\n",
       "    </tr>\n",
       "    <tr>\n",
       "      <th>AGENT00771</th>\n",
       "      <th>Roger Burns</th>\n",
       "      <td>422100</td>\n",
       "      <td>5</td>\n",
       "    </tr>\n",
       "    <tr>\n",
       "      <th>AGENT00125</th>\n",
       "      <th>Salvador Soriano</th>\n",
       "      <td>400400</td>\n",
       "      <td>4</td>\n",
       "    </tr>\n",
       "    <tr>\n",
       "      <th>AGENT00789</th>\n",
       "      <th>Alison Baron</th>\n",
       "      <td>392900</td>\n",
       "      <td>4</td>\n",
       "    </tr>\n",
       "    <tr>\n",
       "      <th>...</th>\n",
       "      <th>...</th>\n",
       "      <td>...</td>\n",
       "      <td>...</td>\n",
       "    </tr>\n",
       "    <tr>\n",
       "      <th>AGENT00910</th>\n",
       "      <th>Vincent Ragan</th>\n",
       "      <td>15500</td>\n",
       "      <td>3</td>\n",
       "    </tr>\n",
       "    <tr>\n",
       "      <th>AGENT00689</th>\n",
       "      <th>Connie Hunt</th>\n",
       "      <td>13700</td>\n",
       "      <td>3</td>\n",
       "    </tr>\n",
       "    <tr>\n",
       "      <th>AGENT00732</th>\n",
       "      <th>Sylvia Tran</th>\n",
       "      <td>11300</td>\n",
       "      <td>3</td>\n",
       "    </tr>\n",
       "    <tr>\n",
       "      <th>AGENT00706</th>\n",
       "      <th>Laura Staggs</th>\n",
       "      <td>10800</td>\n",
       "      <td>3</td>\n",
       "    </tr>\n",
       "    <tr>\n",
       "      <th>AGENT00604</th>\n",
       "      <th>Thelma Salinas</th>\n",
       "      <td>5500</td>\n",
       "      <td>3</td>\n",
       "    </tr>\n",
       "  </tbody>\n",
       "</table>\n",
       "<p>1164 rows × 2 columns</p>\n",
       "</div>"
      ],
      "text/plain": [
       "                             CLAIM_AMOUNT  INSURANCE_TYPE\n",
       "AGENT_ID   AGENT_NAME                                    \n",
       "AGENT00807 Don Filkins             528800               6\n",
       "AGENT00679 Clara Barnett           489000               4\n",
       "AGENT00771 Roger Burns             422100               5\n",
       "AGENT00125 Salvador Soriano        400400               4\n",
       "AGENT00789 Alison Baron            392900               4\n",
       "...                                   ...             ...\n",
       "AGENT00910 Vincent Ragan            15500               3\n",
       "AGENT00689 Connie Hunt              13700               3\n",
       "AGENT00732 Sylvia Tran              11300               3\n",
       "AGENT00706 Laura Staggs             10800               3\n",
       "AGENT00604 Thelma Salinas            5500               3\n",
       "\n",
       "[1164 rows x 2 columns]"
      ]
     },
     "execution_count": 43,
     "metadata": {},
     "output_type": "execute_result"
    }
   ],
   "source": [
    "# Agents who have worked on more than 2 types of insurance claims, sorted by total claims approved under them in descending order along with types of insurance they worked in\n",
    "Top_agents.join(type_count)"
   ]
  },
  {
   "cell_type": "markdown",
   "id": "5b583d90",
   "metadata": {},
   "source": [
    "**The INSURANCE_TYPE column above represents count of types of insurance worked in.**"
   ]
  },
  {
   "cell_type": "markdown",
   "id": "f81107c9",
   "metadata": {},
   "source": [
    "# Task 8\n",
    "\n",
    "**Mobile & Travel Insurance premium are discounted by 10%\n",
    "Health and Property Insurance premium are increased by 7%\n",
    "Life and Motor Insurance premium are marginally increased by 2%\n",
    "What will be overall change in % of the Premium Amount Collected for all these Customer?**"
   ]
  },
  {
   "cell_type": "code",
   "execution_count": 44,
   "id": "7b5baaf2",
   "metadata": {},
   "outputs": [],
   "source": [
    "premium_collected_earlier = data['PREMIUM_AMOUNT'].sum()"
   ]
  },
  {
   "cell_type": "code",
   "execution_count": 45,
   "id": "bf455f17",
   "metadata": {},
   "outputs": [],
   "source": [
    "# total premium collected by each insurance type\n",
    "prem_by_types = data.groupby('INSURANCE_TYPE').sum()['PREMIUM_AMOUNT'].to_dict()"
   ]
  },
  {
   "cell_type": "code",
   "execution_count": 46,
   "id": "b95adbb0",
   "metadata": {},
   "outputs": [
    {
     "data": {
      "text/plain": [
       "{'Health': 252455.72999999966,\n",
       " 'Life': 125621.21999999996,\n",
       " 'Mobile': 15191.420000000016,\n",
       " 'Motor': 165391.98000000013,\n",
       " 'Property': 202285.83000000022,\n",
       " 'Travel': 124139.77000000008}"
      ]
     },
     "execution_count": 46,
     "metadata": {},
     "output_type": "execute_result"
    }
   ],
   "source": [
    "prem_by_types"
   ]
  },
  {
   "cell_type": "code",
   "execution_count": 47,
   "id": "bc4c5329",
   "metadata": {},
   "outputs": [],
   "source": [
    "# Mobile & Travel premium discounted by 10%\n",
    "prem_by_types['Mobile']*=0.9\n",
    "prem_by_types['Travel']*=0.9\n",
    "# Health and Property premium increases by 7%\n",
    "prem_by_types['Health']*=1.07\n",
    "prem_by_types['Property']*=1.07\n",
    "# Life and Motor premium increased by 2%\n",
    "prem_by_types['Life']*=1.02\n",
    "prem_by_types['Motor']*=1.02"
   ]
  },
  {
   "cell_type": "code",
   "execution_count": 48,
   "id": "b14e8fcc",
   "metadata": {},
   "outputs": [],
   "source": [
    "# premium after discount and increase\n",
    "revised_premium = sum(prem_by_types.values())"
   ]
  },
  {
   "cell_type": "code",
   "execution_count": 49,
   "id": "aa177d99",
   "metadata": {},
   "outputs": [
    {
     "data": {
      "text/plain": [
       "2.6798588543858517"
      ]
     },
     "execution_count": 49,
     "metadata": {},
     "output_type": "execute_result"
    }
   ],
   "source": [
    "(revised_premium-premium_collected_earlier)*100/premium_collected_earlier"
   ]
  },
  {
   "cell_type": "code",
   "execution_count": 50,
   "id": "c69dd75b",
   "metadata": {},
   "outputs": [
    {
     "data": {
      "text/plain": [
       "(885085.95, 908805.0042000001)"
      ]
     },
     "execution_count": 50,
     "metadata": {},
     "output_type": "execute_result"
    }
   ],
   "source": [
    "premium_collected_earlier,revised_premium"
   ]
  },
  {
   "cell_type": "markdown",
   "id": "720b3461",
   "metadata": {},
   "source": [
    "**Overall change in Premium amount collected is approximately 2.68%**"
   ]
  },
  {
   "cell_type": "markdown",
   "id": "39a63bb2",
   "metadata": {},
   "source": [
    "# Task 9\n",
    "\n",
    "**Business wants to give discount to customer who are loyal and under stress due to Covid**\n",
    "**19. They have laid down an eligibility Criteria as follow\n",
    "IF CUSTOMER_TENURE > 60 AND EMPLOYMENT_STATUS = “N”\n",
    "AND NO_OF_FAMILY_MEMBERS >=4 THEN 1 ELSE 0\n",
    "Create a new column “ELIGIBLE_FOR_DISCOUNT” and find it\n",
    "mean.**"
   ]
  },
  {
   "cell_type": "code",
   "execution_count": 51,
   "id": "3c3b657c",
   "metadata": {},
   "outputs": [],
   "source": [
    "# calculating status for discount with given conditions\n",
    "disc_status=(data['TENURE']>60)&(data['EMPLOYMENT_STATUS']=='N')&(data['NO_OF_FAMILY_MEMBERS']>=4)"
   ]
  },
  {
   "cell_type": "code",
   "execution_count": 52,
   "id": "a93ccb56",
   "metadata": {},
   "outputs": [],
   "source": [
    "# Creating an column ELIGIBLE_FOR_DISCOUNT with above values\n",
    "data['ELIGIBLE_FOR_DISCOUNT'] = disc_status.astype('int')"
   ]
  },
  {
   "cell_type": "code",
   "execution_count": 53,
   "id": "bd0e3265",
   "metadata": {},
   "outputs": [
    {
     "data": {
      "text/plain": [
       "0.0299"
      ]
     },
     "execution_count": 53,
     "metadata": {},
     "output_type": "execute_result"
    }
   ],
   "source": [
    "# Mean of this column\n",
    "data.ELIGIBLE_FOR_DISCOUNT.mean()"
   ]
  },
  {
   "cell_type": "markdown",
   "id": "8d28f2bd",
   "metadata": {},
   "source": [
    "**The mean is 0.0299, this means of total customers 2.99% are eligible for discount**"
   ]
  },
  {
   "cell_type": "markdown",
   "id": "1593b8aa",
   "metadata": {},
   "source": [
    "# Task 10\n",
    "\n",
    "**Business wants to check Claim Velocity which is defined as follow\n",
    "CLAIM_VELOCITY = NO_OF_CLAIMS_IN_LAST30DAYS (for the current insurance type)\n",
    "/ NO_OF_CLAIMS_IN_LAST3DAYS (for the current insurance type)\n",
    "Note: LAST30DAYS & LAST3DAYS does not include current\n",
    "day**"
   ]
  },
  {
   "cell_type": "code",
   "execution_count": 54,
   "id": "70f4d14c",
   "metadata": {},
   "outputs": [
    {
     "data": {
      "text/plain": [
       "Timestamp('2021-06-30 00:00:00')"
      ]
     },
     "execution_count": 54,
     "metadata": {},
     "output_type": "execute_result"
    }
   ],
   "source": [
    "curr_date"
   ]
  },
  {
   "cell_type": "code",
   "execution_count": 55,
   "id": "404846fc",
   "metadata": {},
   "outputs": [
    {
     "data": {
      "text/plain": [
       "A    9497\n",
       "D     503\n",
       "Name: CLAIM_STATUS, dtype: int64"
      ]
     },
     "execution_count": 55,
     "metadata": {},
     "output_type": "execute_result"
    }
   ],
   "source": [
    "data['CLAIM_STATUS'].value_counts()"
   ]
  },
  {
   "cell_type": "code",
   "execution_count": 56,
   "id": "a9aa847b",
   "metadata": {},
   "outputs": [],
   "source": [
    "# we had defined last 30 days data in task#6 earlier, similarly defining for last 3 days\n",
    "last_3_days = data.loc[(data['TXN_DATE_TIME'] > curr_date-pd.Timedelta(days=4)) & (data['TXN_DATE_TIME'] < curr_date)]"
   ]
  },
  {
   "cell_type": "code",
   "execution_count": 57,
   "id": "368f283a",
   "metadata": {},
   "outputs": [],
   "source": [
    "# Calculating total approved claims insurance type wise in last 30 days\n",
    "claims_in_last_30_days = pd.DataFrame.from_dict(last_30[last_30['CLAIM_STATUS']=='A'].groupby('INSURANCE_TYPE').size().to_dict(),orient='index',columns=['NO_OF_CLAIMS_IN_LAST30DAYS'])"
   ]
  },
  {
   "cell_type": "code",
   "execution_count": 58,
   "id": "573c51ba",
   "metadata": {},
   "outputs": [],
   "source": [
    "# Calculating total approved claims insurance type wise in last 3 days\n",
    "claims_in_last_3_days = pd.DataFrame.from_dict(last_3_days[last_3_days['CLAIM_STATUS']=='A'].groupby('INSURANCE_TYPE').size().to_dict(),orient='index',columns=['NO_OF_CLAIMS_IN_LAST3DAYS'])"
   ]
  },
  {
   "cell_type": "code",
   "execution_count": 59,
   "id": "beecac3d",
   "metadata": {},
   "outputs": [],
   "source": [
    "approved_claims = claims_in_last_30_days.join(claims_in_last_3_days)"
   ]
  },
  {
   "cell_type": "code",
   "execution_count": 60,
   "id": "0dbf52a8",
   "metadata": {},
   "outputs": [],
   "source": [
    "approved_claims['CLAIM_VELOCITY'] = approved_claims['NO_OF_CLAIMS_IN_LAST30DAYS']/approved_claims['NO_OF_CLAIMS_IN_LAST3DAYS']"
   ]
  },
  {
   "cell_type": "code",
   "execution_count": 61,
   "id": "da542eca",
   "metadata": {},
   "outputs": [
    {
     "data": {
      "text/html": [
       "<div>\n",
       "<style scoped>\n",
       "    .dataframe tbody tr th:only-of-type {\n",
       "        vertical-align: middle;\n",
       "    }\n",
       "\n",
       "    .dataframe tbody tr th {\n",
       "        vertical-align: top;\n",
       "    }\n",
       "\n",
       "    .dataframe thead th {\n",
       "        text-align: right;\n",
       "    }\n",
       "</style>\n",
       "<table border=\"1\" class=\"dataframe\">\n",
       "  <thead>\n",
       "    <tr style=\"text-align: right;\">\n",
       "      <th></th>\n",
       "      <th>NO_OF_CLAIMS_IN_LAST30DAYS</th>\n",
       "      <th>NO_OF_CLAIMS_IN_LAST3DAYS</th>\n",
       "      <th>CLAIM_VELOCITY</th>\n",
       "    </tr>\n",
       "  </thead>\n",
       "  <tbody>\n",
       "    <tr>\n",
       "      <th>Health</th>\n",
       "      <td>128</td>\n",
       "      <td>14</td>\n",
       "      <td>9.142857</td>\n",
       "    </tr>\n",
       "    <tr>\n",
       "      <th>Life</th>\n",
       "      <td>128</td>\n",
       "      <td>12</td>\n",
       "      <td>10.666667</td>\n",
       "    </tr>\n",
       "    <tr>\n",
       "      <th>Mobile</th>\n",
       "      <td>127</td>\n",
       "      <td>9</td>\n",
       "      <td>14.111111</td>\n",
       "    </tr>\n",
       "    <tr>\n",
       "      <th>Motor</th>\n",
       "      <td>117</td>\n",
       "      <td>12</td>\n",
       "      <td>9.750000</td>\n",
       "    </tr>\n",
       "    <tr>\n",
       "      <th>Property</th>\n",
       "      <td>125</td>\n",
       "      <td>12</td>\n",
       "      <td>10.416667</td>\n",
       "    </tr>\n",
       "    <tr>\n",
       "      <th>Travel</th>\n",
       "      <td>123</td>\n",
       "      <td>14</td>\n",
       "      <td>8.785714</td>\n",
       "    </tr>\n",
       "  </tbody>\n",
       "</table>\n",
       "</div>"
      ],
      "text/plain": [
       "          NO_OF_CLAIMS_IN_LAST30DAYS  NO_OF_CLAIMS_IN_LAST3DAYS  \\\n",
       "Health                           128                         14   \n",
       "Life                             128                         12   \n",
       "Mobile                           127                          9   \n",
       "Motor                            117                         12   \n",
       "Property                         125                         12   \n",
       "Travel                           123                         14   \n",
       "\n",
       "          CLAIM_VELOCITY  \n",
       "Health          9.142857  \n",
       "Life           10.666667  \n",
       "Mobile         14.111111  \n",
       "Motor           9.750000  \n",
       "Property       10.416667  \n",
       "Travel          8.785714  "
      ]
     },
     "execution_count": 61,
     "metadata": {},
     "output_type": "execute_result"
    }
   ],
   "source": [
    "approved_claims"
   ]
  },
  {
   "cell_type": "markdown",
   "id": "d8393a9c",
   "metadata": {},
   "source": [
    "**claim velocity is calculated for only claims approved, similarly ot is calculated for all claims below.**"
   ]
  },
  {
   "cell_type": "code",
   "execution_count": 62,
   "id": "1ddc325f",
   "metadata": {},
   "outputs": [],
   "source": [
    "All_claims30D = pd.DataFrame.from_dict(last_30.groupby('INSURANCE_TYPE').size().to_dict(),orient='index',columns=['NO_OF_CLAIMS_IN_LAST30DAYS'])"
   ]
  },
  {
   "cell_type": "code",
   "execution_count": 63,
   "id": "db7b295e",
   "metadata": {},
   "outputs": [],
   "source": [
    "All_claims3D = pd.DataFrame.from_dict(last_3_days.groupby('INSURANCE_TYPE').size().to_dict(),orient='index',columns=['NO_OF_CLAIMS_IN_LAST3DAYS'])"
   ]
  },
  {
   "cell_type": "code",
   "execution_count": 64,
   "id": "8fb63a9a",
   "metadata": {},
   "outputs": [],
   "source": [
    "total_claims=All_claims30D.join(All_claims3D)"
   ]
  },
  {
   "cell_type": "code",
   "execution_count": 65,
   "id": "6108964e",
   "metadata": {},
   "outputs": [],
   "source": [
    "total_claims['CLAIM_VELOCITY'] = total_claims['NO_OF_CLAIMS_IN_LAST30DAYS']/total_claims['NO_OF_CLAIMS_IN_LAST3DAYS']"
   ]
  },
  {
   "cell_type": "code",
   "execution_count": 66,
   "id": "2c7154f7",
   "metadata": {},
   "outputs": [
    {
     "data": {
      "text/html": [
       "<div>\n",
       "<style scoped>\n",
       "    .dataframe tbody tr th:only-of-type {\n",
       "        vertical-align: middle;\n",
       "    }\n",
       "\n",
       "    .dataframe tbody tr th {\n",
       "        vertical-align: top;\n",
       "    }\n",
       "\n",
       "    .dataframe thead th {\n",
       "        text-align: right;\n",
       "    }\n",
       "</style>\n",
       "<table border=\"1\" class=\"dataframe\">\n",
       "  <thead>\n",
       "    <tr style=\"text-align: right;\">\n",
       "      <th></th>\n",
       "      <th>NO_OF_CLAIMS_IN_LAST30DAYS</th>\n",
       "      <th>NO_OF_CLAIMS_IN_LAST3DAYS</th>\n",
       "      <th>CLAIM_VELOCITY</th>\n",
       "    </tr>\n",
       "  </thead>\n",
       "  <tbody>\n",
       "    <tr>\n",
       "      <th>Health</th>\n",
       "      <td>136</td>\n",
       "      <td>14</td>\n",
       "      <td>9.714286</td>\n",
       "    </tr>\n",
       "    <tr>\n",
       "      <th>Life</th>\n",
       "      <td>140</td>\n",
       "      <td>14</td>\n",
       "      <td>10.000000</td>\n",
       "    </tr>\n",
       "    <tr>\n",
       "      <th>Mobile</th>\n",
       "      <td>134</td>\n",
       "      <td>10</td>\n",
       "      <td>13.400000</td>\n",
       "    </tr>\n",
       "    <tr>\n",
       "      <th>Motor</th>\n",
       "      <td>122</td>\n",
       "      <td>13</td>\n",
       "      <td>9.384615</td>\n",
       "    </tr>\n",
       "    <tr>\n",
       "      <th>Property</th>\n",
       "      <td>129</td>\n",
       "      <td>13</td>\n",
       "      <td>9.923077</td>\n",
       "    </tr>\n",
       "    <tr>\n",
       "      <th>Travel</th>\n",
       "      <td>125</td>\n",
       "      <td>14</td>\n",
       "      <td>8.928571</td>\n",
       "    </tr>\n",
       "  </tbody>\n",
       "</table>\n",
       "</div>"
      ],
      "text/plain": [
       "          NO_OF_CLAIMS_IN_LAST30DAYS  NO_OF_CLAIMS_IN_LAST3DAYS  \\\n",
       "Health                           136                         14   \n",
       "Life                             140                         14   \n",
       "Mobile                           134                         10   \n",
       "Motor                            122                         13   \n",
       "Property                         129                         13   \n",
       "Travel                           125                         14   \n",
       "\n",
       "          CLAIM_VELOCITY  \n",
       "Health          9.714286  \n",
       "Life           10.000000  \n",
       "Mobile         13.400000  \n",
       "Motor           9.384615  \n",
       "Property        9.923077  \n",
       "Travel          8.928571  "
      ]
     },
     "execution_count": 66,
     "metadata": {},
     "output_type": "execute_result"
    }
   ],
   "source": [
    "total_claims"
   ]
  },
  {
   "cell_type": "markdown",
   "id": "ed03c2db",
   "metadata": {},
   "source": [
    "# Task 11\n",
    "\n",
    "**Find all low performing agents i.e. employees who are in the bottom 5 percentile based\n",
    "on Claims worked by them.**\n"
   ]
  },
  {
   "cell_type": "code",
   "execution_count": 67,
   "id": "ec532e1e",
   "metadata": {},
   "outputs": [],
   "source": [
    "bottom_5percentile_limit = data.groupby('AGENT_ID').sum().quantile(0.05)['CLAIM_AMOUNT']"
   ]
  },
  {
   "cell_type": "code",
   "execution_count": 68,
   "id": "0ab740fb",
   "metadata": {},
   "outputs": [],
   "source": [
    "Agent_grouped_data = data.groupby('AGENT_ID').sum()"
   ]
  },
  {
   "cell_type": "code",
   "execution_count": 69,
   "id": "cb3eba7a",
   "metadata": {},
   "outputs": [],
   "source": [
    "# Low performing agent data\n",
    "low_performing_agents = Agent_grouped_data[Agent_grouped_data['CLAIM_AMOUNT']<=bottom_5percentile_limit][['CLAIM_AMOUNT']]"
   ]
  },
  {
   "cell_type": "code",
   "execution_count": 70,
   "id": "7cd3019e",
   "metadata": {},
   "outputs": [
    {
     "data": {
      "text/html": [
       "<div>\n",
       "<style scoped>\n",
       "    .dataframe tbody tr th:only-of-type {\n",
       "        vertical-align: middle;\n",
       "    }\n",
       "\n",
       "    .dataframe tbody tr th {\n",
       "        vertical-align: top;\n",
       "    }\n",
       "\n",
       "    .dataframe thead th {\n",
       "        text-align: right;\n",
       "    }\n",
       "</style>\n",
       "<table border=\"1\" class=\"dataframe\">\n",
       "  <thead>\n",
       "    <tr style=\"text-align: right;\">\n",
       "      <th></th>\n",
       "      <th>CLAIM_AMOUNT</th>\n",
       "    </tr>\n",
       "    <tr>\n",
       "      <th>AGENT_ID</th>\n",
       "      <th></th>\n",
       "    </tr>\n",
       "  </thead>\n",
       "  <tbody>\n",
       "    <tr>\n",
       "      <th>AGENT00006</th>\n",
       "      <td>22400</td>\n",
       "    </tr>\n",
       "    <tr>\n",
       "      <th>AGENT00014</th>\n",
       "      <td>7400</td>\n",
       "    </tr>\n",
       "    <tr>\n",
       "      <th>AGENT00016</th>\n",
       "      <td>27000</td>\n",
       "    </tr>\n",
       "    <tr>\n",
       "      <th>AGENT00085</th>\n",
       "      <td>25700</td>\n",
       "    </tr>\n",
       "    <tr>\n",
       "      <th>AGENT00088</th>\n",
       "      <td>27700</td>\n",
       "    </tr>\n",
       "    <tr>\n",
       "      <th>AGENT00091</th>\n",
       "      <td>30000</td>\n",
       "    </tr>\n",
       "    <tr>\n",
       "      <th>AGENT00098</th>\n",
       "      <td>28200</td>\n",
       "    </tr>\n",
       "    <tr>\n",
       "      <th>AGENT00134</th>\n",
       "      <td>22000</td>\n",
       "    </tr>\n",
       "    <tr>\n",
       "      <th>AGENT00149</th>\n",
       "      <td>28900</td>\n",
       "    </tr>\n",
       "    <tr>\n",
       "      <th>AGENT00156</th>\n",
       "      <td>13200</td>\n",
       "    </tr>\n",
       "    <tr>\n",
       "      <th>AGENT00172</th>\n",
       "      <td>22200</td>\n",
       "    </tr>\n",
       "    <tr>\n",
       "      <th>AGENT00185</th>\n",
       "      <td>16100</td>\n",
       "    </tr>\n",
       "    <tr>\n",
       "      <th>AGENT00186</th>\n",
       "      <td>27700</td>\n",
       "    </tr>\n",
       "    <tr>\n",
       "      <th>AGENT00188</th>\n",
       "      <td>28400</td>\n",
       "    </tr>\n",
       "    <tr>\n",
       "      <th>AGENT00197</th>\n",
       "      <td>18500</td>\n",
       "    </tr>\n",
       "    <tr>\n",
       "      <th>AGENT00252</th>\n",
       "      <td>20000</td>\n",
       "    </tr>\n",
       "    <tr>\n",
       "      <th>AGENT00263</th>\n",
       "      <td>11500</td>\n",
       "    </tr>\n",
       "    <tr>\n",
       "      <th>AGENT00275</th>\n",
       "      <td>16200</td>\n",
       "    </tr>\n",
       "    <tr>\n",
       "      <th>AGENT00279</th>\n",
       "      <td>28000</td>\n",
       "    </tr>\n",
       "    <tr>\n",
       "      <th>AGENT00300</th>\n",
       "      <td>12600</td>\n",
       "    </tr>\n",
       "    <tr>\n",
       "      <th>AGENT00310</th>\n",
       "      <td>28800</td>\n",
       "    </tr>\n",
       "    <tr>\n",
       "      <th>AGENT00316</th>\n",
       "      <td>22200</td>\n",
       "    </tr>\n",
       "    <tr>\n",
       "      <th>AGENT00351</th>\n",
       "      <td>21700</td>\n",
       "    </tr>\n",
       "    <tr>\n",
       "      <th>AGENT00425</th>\n",
       "      <td>17800</td>\n",
       "    </tr>\n",
       "    <tr>\n",
       "      <th>AGENT00442</th>\n",
       "      <td>30300</td>\n",
       "    </tr>\n",
       "    <tr>\n",
       "      <th>AGENT00536</th>\n",
       "      <td>20000</td>\n",
       "    </tr>\n",
       "    <tr>\n",
       "      <th>AGENT00562</th>\n",
       "      <td>21100</td>\n",
       "    </tr>\n",
       "    <tr>\n",
       "      <th>AGENT00571</th>\n",
       "      <td>24200</td>\n",
       "    </tr>\n",
       "    <tr>\n",
       "      <th>AGENT00585</th>\n",
       "      <td>16600</td>\n",
       "    </tr>\n",
       "    <tr>\n",
       "      <th>AGENT00590</th>\n",
       "      <td>22200</td>\n",
       "    </tr>\n",
       "    <tr>\n",
       "      <th>AGENT00604</th>\n",
       "      <td>5500</td>\n",
       "    </tr>\n",
       "    <tr>\n",
       "      <th>AGENT00621</th>\n",
       "      <td>5300</td>\n",
       "    </tr>\n",
       "    <tr>\n",
       "      <th>AGENT00628</th>\n",
       "      <td>6100</td>\n",
       "    </tr>\n",
       "    <tr>\n",
       "      <th>AGENT00672</th>\n",
       "      <td>21300</td>\n",
       "    </tr>\n",
       "    <tr>\n",
       "      <th>AGENT00689</th>\n",
       "      <td>13700</td>\n",
       "    </tr>\n",
       "    <tr>\n",
       "      <th>AGENT00706</th>\n",
       "      <td>10800</td>\n",
       "    </tr>\n",
       "    <tr>\n",
       "      <th>AGENT00721</th>\n",
       "      <td>9000</td>\n",
       "    </tr>\n",
       "    <tr>\n",
       "      <th>AGENT00732</th>\n",
       "      <td>11300</td>\n",
       "    </tr>\n",
       "    <tr>\n",
       "      <th>AGENT00773</th>\n",
       "      <td>15000</td>\n",
       "    </tr>\n",
       "    <tr>\n",
       "      <th>AGENT00780</th>\n",
       "      <td>11300</td>\n",
       "    </tr>\n",
       "    <tr>\n",
       "      <th>AGENT00790</th>\n",
       "      <td>6000</td>\n",
       "    </tr>\n",
       "    <tr>\n",
       "      <th>AGENT00804</th>\n",
       "      <td>20000</td>\n",
       "    </tr>\n",
       "    <tr>\n",
       "      <th>AGENT00805</th>\n",
       "      <td>22600</td>\n",
       "    </tr>\n",
       "    <tr>\n",
       "      <th>AGENT00830</th>\n",
       "      <td>23500</td>\n",
       "    </tr>\n",
       "    <tr>\n",
       "      <th>AGENT00841</th>\n",
       "      <td>17800</td>\n",
       "    </tr>\n",
       "    <tr>\n",
       "      <th>AGENT00856</th>\n",
       "      <td>24200</td>\n",
       "    </tr>\n",
       "    <tr>\n",
       "      <th>AGENT00894</th>\n",
       "      <td>27600</td>\n",
       "    </tr>\n",
       "    <tr>\n",
       "      <th>AGENT00910</th>\n",
       "      <td>15500</td>\n",
       "    </tr>\n",
       "    <tr>\n",
       "      <th>AGENT00969</th>\n",
       "      <td>28300</td>\n",
       "    </tr>\n",
       "    <tr>\n",
       "      <th>AGENT00985</th>\n",
       "      <td>30000</td>\n",
       "    </tr>\n",
       "    <tr>\n",
       "      <th>AGENT01021</th>\n",
       "      <td>24300</td>\n",
       "    </tr>\n",
       "    <tr>\n",
       "      <th>AGENT01037</th>\n",
       "      <td>5600</td>\n",
       "    </tr>\n",
       "    <tr>\n",
       "      <th>AGENT01052</th>\n",
       "      <td>28000</td>\n",
       "    </tr>\n",
       "    <tr>\n",
       "      <th>AGENT01077</th>\n",
       "      <td>4200</td>\n",
       "    </tr>\n",
       "    <tr>\n",
       "      <th>AGENT01107</th>\n",
       "      <td>24700</td>\n",
       "    </tr>\n",
       "    <tr>\n",
       "      <th>AGENT01128</th>\n",
       "      <td>28000</td>\n",
       "    </tr>\n",
       "    <tr>\n",
       "      <th>AGENT01131</th>\n",
       "      <td>27500</td>\n",
       "    </tr>\n",
       "    <tr>\n",
       "      <th>AGENT01151</th>\n",
       "      <td>28000</td>\n",
       "    </tr>\n",
       "    <tr>\n",
       "      <th>AGENT01154</th>\n",
       "      <td>800</td>\n",
       "    </tr>\n",
       "    <tr>\n",
       "      <th>AGENT01179</th>\n",
       "      <td>27300</td>\n",
       "    </tr>\n",
       "  </tbody>\n",
       "</table>\n",
       "</div>"
      ],
      "text/plain": [
       "            CLAIM_AMOUNT\n",
       "AGENT_ID                \n",
       "AGENT00006         22400\n",
       "AGENT00014          7400\n",
       "AGENT00016         27000\n",
       "AGENT00085         25700\n",
       "AGENT00088         27700\n",
       "AGENT00091         30000\n",
       "AGENT00098         28200\n",
       "AGENT00134         22000\n",
       "AGENT00149         28900\n",
       "AGENT00156         13200\n",
       "AGENT00172         22200\n",
       "AGENT00185         16100\n",
       "AGENT00186         27700\n",
       "AGENT00188         28400\n",
       "AGENT00197         18500\n",
       "AGENT00252         20000\n",
       "AGENT00263         11500\n",
       "AGENT00275         16200\n",
       "AGENT00279         28000\n",
       "AGENT00300         12600\n",
       "AGENT00310         28800\n",
       "AGENT00316         22200\n",
       "AGENT00351         21700\n",
       "AGENT00425         17800\n",
       "AGENT00442         30300\n",
       "AGENT00536         20000\n",
       "AGENT00562         21100\n",
       "AGENT00571         24200\n",
       "AGENT00585         16600\n",
       "AGENT00590         22200\n",
       "AGENT00604          5500\n",
       "AGENT00621          5300\n",
       "AGENT00628          6100\n",
       "AGENT00672         21300\n",
       "AGENT00689         13700\n",
       "AGENT00706         10800\n",
       "AGENT00721          9000\n",
       "AGENT00732         11300\n",
       "AGENT00773         15000\n",
       "AGENT00780         11300\n",
       "AGENT00790          6000\n",
       "AGENT00804         20000\n",
       "AGENT00805         22600\n",
       "AGENT00830         23500\n",
       "AGENT00841         17800\n",
       "AGENT00856         24200\n",
       "AGENT00894         27600\n",
       "AGENT00910         15500\n",
       "AGENT00969         28300\n",
       "AGENT00985         30000\n",
       "AGENT01021         24300\n",
       "AGENT01037          5600\n",
       "AGENT01052         28000\n",
       "AGENT01077          4200\n",
       "AGENT01107         24700\n",
       "AGENT01128         28000\n",
       "AGENT01131         27500\n",
       "AGENT01151         28000\n",
       "AGENT01154           800\n",
       "AGENT01179         27300"
      ]
     },
     "execution_count": 70,
     "metadata": {},
     "output_type": "execute_result"
    }
   ],
   "source": [
    "low_performing_agents"
   ]
  },
  {
   "cell_type": "markdown",
   "id": "af7891c0",
   "metadata": {},
   "source": [
    "# Task 12\n",
    "\n",
    "**Business wants to find all Suspicious Employees (Agents).\n",
    "IF TOTAL CLAIM AMOUNT which meet below criteria is >= 15000 THEN AGENT is classified\n",
    "as Suspicious ELSE Not\n",
    "CLAIM_STATUS = Approved AND CUSTOMER_RISK_SEGMENTATION = High\n",
    "AND INCIDENT_SEVERITY = “Major Loss”\n",
    "If Suspicious, then 1 ELSE 0. Find mean of this column**"
   ]
  },
  {
   "cell_type": "code",
   "execution_count": 71,
   "id": "b6dd93a8",
   "metadata": {},
   "outputs": [],
   "source": [
    "criteria = (data['CLAIM_STATUS']=='A')&(data['RISK_SEGMENTATION']=='H')&(data['INCIDENT_SEVERITY']=='Major Loss')"
   ]
  },
  {
   "cell_type": "code",
   "execution_count": 72,
   "id": "e6fff724",
   "metadata": {},
   "outputs": [],
   "source": [
    "# transactions that follow criteria\n",
    "criteriamet = data[criteria]"
   ]
  },
  {
   "cell_type": "code",
   "execution_count": 73,
   "id": "70d276b7",
   "metadata": {},
   "outputs": [],
   "source": [
    "grouped_suspicion_data = criteriamet.groupby('AGENT_ID').sum()"
   ]
  },
  {
   "cell_type": "code",
   "execution_count": 74,
   "id": "6aad0ae9",
   "metadata": {},
   "outputs": [],
   "source": [
    "# storing agents_id that are suspicious(met all the criteria)\n",
    "suspicious_agents = list(grouped_suspicion_data[grouped_suspicion_data['CLAIM_AMOUNT']>=15000].index)"
   ]
  },
  {
   "cell_type": "code",
   "execution_count": 75,
   "id": "8b0c9fb6",
   "metadata": {},
   "outputs": [
    {
     "data": {
      "text/html": [
       "<div>\n",
       "<style scoped>\n",
       "    .dataframe tbody tr th:only-of-type {\n",
       "        vertical-align: middle;\n",
       "    }\n",
       "\n",
       "    .dataframe tbody tr th {\n",
       "        vertical-align: top;\n",
       "    }\n",
       "\n",
       "    .dataframe thead th {\n",
       "        text-align: right;\n",
       "    }\n",
       "</style>\n",
       "<table border=\"1\" class=\"dataframe\">\n",
       "  <thead>\n",
       "    <tr style=\"text-align: right;\">\n",
       "      <th></th>\n",
       "      <th>AGENT_ID</th>\n",
       "      <th>AGENT_NAME</th>\n",
       "      <th>DATE_OF_JOINING</th>\n",
       "      <th>ADDRESS_LINE1</th>\n",
       "      <th>ADDRESS_LINE2</th>\n",
       "      <th>CITY</th>\n",
       "      <th>STATE</th>\n",
       "      <th>POSTAL_CODE</th>\n",
       "      <th>EMP_ROUTING_NUMBER</th>\n",
       "      <th>EMP_ACCT_NUMBER</th>\n",
       "    </tr>\n",
       "  </thead>\n",
       "  <tbody>\n",
       "    <tr>\n",
       "      <th>0</th>\n",
       "      <td>AGENT00001</td>\n",
       "      <td>Ray Johns</td>\n",
       "      <td>1993-06-05</td>\n",
       "      <td>1402 Maggies Way</td>\n",
       "      <td>NaN</td>\n",
       "      <td>Waterbury Center</td>\n",
       "      <td>VT</td>\n",
       "      <td>5677</td>\n",
       "      <td>34584958</td>\n",
       "      <td>HKUN51252328472585</td>\n",
       "    </tr>\n",
       "    <tr>\n",
       "      <th>1</th>\n",
       "      <td>AGENT00002</td>\n",
       "      <td>Angelo Borjon</td>\n",
       "      <td>2005-12-27</td>\n",
       "      <td>414 Tanya Pass</td>\n",
       "      <td>NaN</td>\n",
       "      <td>Panama City</td>\n",
       "      <td>FL</td>\n",
       "      <td>32404</td>\n",
       "      <td>107363763</td>\n",
       "      <td>OPIS19290040088204</td>\n",
       "    </tr>\n",
       "    <tr>\n",
       "      <th>2</th>\n",
       "      <td>AGENT00003</td>\n",
       "      <td>Candy Spellman</td>\n",
       "      <td>2003-09-02</td>\n",
       "      <td>606 National Street</td>\n",
       "      <td>#306</td>\n",
       "      <td>Fayetteville</td>\n",
       "      <td>AR</td>\n",
       "      <td>72701</td>\n",
       "      <td>81744097</td>\n",
       "      <td>YSCJ67489688482590</td>\n",
       "    </tr>\n",
       "    <tr>\n",
       "      <th>3</th>\n",
       "      <td>AGENT00004</td>\n",
       "      <td>Mary Smith</td>\n",
       "      <td>2004-09-23</td>\n",
       "      <td>235 Hugh Thomas Drive</td>\n",
       "      <td>NaN</td>\n",
       "      <td>Panama City</td>\n",
       "      <td>FL</td>\n",
       "      <td>32404</td>\n",
       "      <td>67563771</td>\n",
       "      <td>ZANG21285355574581</td>\n",
       "    </tr>\n",
       "    <tr>\n",
       "      <th>4</th>\n",
       "      <td>AGENT00005</td>\n",
       "      <td>Mildred Diaz</td>\n",
       "      <td>2011-06-21</td>\n",
       "      <td>3426 Broadview Street</td>\n",
       "      <td>NaN</td>\n",
       "      <td>Montgomery</td>\n",
       "      <td>AL</td>\n",
       "      <td>36110</td>\n",
       "      <td>114951317</td>\n",
       "      <td>DZFS82244494451134</td>\n",
       "    </tr>\n",
       "    <tr>\n",
       "      <th>...</th>\n",
       "      <td>...</td>\n",
       "      <td>...</td>\n",
       "      <td>...</td>\n",
       "      <td>...</td>\n",
       "      <td>...</td>\n",
       "      <td>...</td>\n",
       "      <td>...</td>\n",
       "      <td>...</td>\n",
       "      <td>...</td>\n",
       "      <td>...</td>\n",
       "    </tr>\n",
       "    <tr>\n",
       "      <th>1195</th>\n",
       "      <td>AGENT01196</td>\n",
       "      <td>Myrtle Mccatty</td>\n",
       "      <td>2005-09-14</td>\n",
       "      <td>3553 Brandywine Street Northwest</td>\n",
       "      <td>NaN</td>\n",
       "      <td>Washington</td>\n",
       "      <td>DC</td>\n",
       "      <td>20008</td>\n",
       "      <td>32137938</td>\n",
       "      <td>EWBR19907574832501</td>\n",
       "    </tr>\n",
       "    <tr>\n",
       "      <th>1196</th>\n",
       "      <td>AGENT01197</td>\n",
       "      <td>John Dorsey</td>\n",
       "      <td>1993-12-04</td>\n",
       "      <td>2315 Chestnut Street</td>\n",
       "      <td>NaN</td>\n",
       "      <td>Montgomery</td>\n",
       "      <td>AL</td>\n",
       "      <td>36107</td>\n",
       "      <td>70796687</td>\n",
       "      <td>KGEJ74846009867837</td>\n",
       "    </tr>\n",
       "    <tr>\n",
       "      <th>1197</th>\n",
       "      <td>AGENT01198</td>\n",
       "      <td>Ruth Bigbee</td>\n",
       "      <td>1993-09-05</td>\n",
       "      <td>1983 Reidsville Street</td>\n",
       "      <td>NaN</td>\n",
       "      <td>Annapolis</td>\n",
       "      <td>MD</td>\n",
       "      <td>21401</td>\n",
       "      <td>124993912</td>\n",
       "      <td>RASV88064214164820</td>\n",
       "    </tr>\n",
       "    <tr>\n",
       "      <th>1198</th>\n",
       "      <td>AGENT01199</td>\n",
       "      <td>Tommie Camacho</td>\n",
       "      <td>2004-10-25</td>\n",
       "      <td>5821 Taft Street</td>\n",
       "      <td>NaN</td>\n",
       "      <td>Arvada</td>\n",
       "      <td>CO</td>\n",
       "      <td>80004</td>\n",
       "      <td>19424059</td>\n",
       "      <td>UOFO11656245339211</td>\n",
       "    </tr>\n",
       "    <tr>\n",
       "      <th>1199</th>\n",
       "      <td>AGENT01200</td>\n",
       "      <td>Virginia Stachura</td>\n",
       "      <td>1999-05-25</td>\n",
       "      <td>3579 2nd Avenue</td>\n",
       "      <td>NaN</td>\n",
       "      <td>Edgewater</td>\n",
       "      <td>MD</td>\n",
       "      <td>21037</td>\n",
       "      <td>12226940</td>\n",
       "      <td>ALYY24945545778511</td>\n",
       "    </tr>\n",
       "  </tbody>\n",
       "</table>\n",
       "<p>1200 rows × 10 columns</p>\n",
       "</div>"
      ],
      "text/plain": [
       "        AGENT_ID         AGENT_NAME DATE_OF_JOINING  \\\n",
       "0     AGENT00001          Ray Johns      1993-06-05   \n",
       "1     AGENT00002      Angelo Borjon      2005-12-27   \n",
       "2     AGENT00003     Candy Spellman      2003-09-02   \n",
       "3     AGENT00004         Mary Smith      2004-09-23   \n",
       "4     AGENT00005       Mildred Diaz      2011-06-21   \n",
       "...          ...                ...             ...   \n",
       "1195  AGENT01196     Myrtle Mccatty      2005-09-14   \n",
       "1196  AGENT01197        John Dorsey      1993-12-04   \n",
       "1197  AGENT01198        Ruth Bigbee      1993-09-05   \n",
       "1198  AGENT01199     Tommie Camacho      2004-10-25   \n",
       "1199  AGENT01200  Virginia Stachura      1999-05-25   \n",
       "\n",
       "                         ADDRESS_LINE1 ADDRESS_LINE2              CITY STATE  \\\n",
       "0                     1402 Maggies Way           NaN  Waterbury Center    VT   \n",
       "1                       414 Tanya Pass           NaN       Panama City    FL   \n",
       "2                  606 National Street          #306      Fayetteville    AR   \n",
       "3                235 Hugh Thomas Drive           NaN       Panama City    FL   \n",
       "4                3426 Broadview Street           NaN        Montgomery    AL   \n",
       "...                                ...           ...               ...   ...   \n",
       "1195  3553 Brandywine Street Northwest           NaN        Washington    DC   \n",
       "1196              2315 Chestnut Street           NaN        Montgomery    AL   \n",
       "1197            1983 Reidsville Street           NaN         Annapolis    MD   \n",
       "1198                  5821 Taft Street           NaN            Arvada    CO   \n",
       "1199                   3579 2nd Avenue           NaN         Edgewater    MD   \n",
       "\n",
       "      POSTAL_CODE  EMP_ROUTING_NUMBER     EMP_ACCT_NUMBER  \n",
       "0            5677            34584958  HKUN51252328472585  \n",
       "1           32404           107363763  OPIS19290040088204  \n",
       "2           72701            81744097  YSCJ67489688482590  \n",
       "3           32404            67563771  ZANG21285355574581  \n",
       "4           36110           114951317  DZFS82244494451134  \n",
       "...           ...                 ...                 ...  \n",
       "1195        20008            32137938  EWBR19907574832501  \n",
       "1196        36107            70796687  KGEJ74846009867837  \n",
       "1197        21401           124993912  RASV88064214164820  \n",
       "1198        80004            19424059  UOFO11656245339211  \n",
       "1199        21037            12226940  ALYY24945545778511  \n",
       "\n",
       "[1200 rows x 10 columns]"
      ]
     },
     "execution_count": 75,
     "metadata": {},
     "output_type": "execute_result"
    }
   ],
   "source": [
    "employee_data"
   ]
  },
  {
   "cell_type": "code",
   "execution_count": 76,
   "id": "3da8769a",
   "metadata": {},
   "outputs": [],
   "source": [
    "employee_data['SUSPICIOUS'] = 0"
   ]
  },
  {
   "cell_type": "code",
   "execution_count": 77,
   "id": "16887421",
   "metadata": {},
   "outputs": [],
   "source": [
    "sus_emp_slice = employee_data['AGENT_ID'].isin(suspicious_agents)"
   ]
  },
  {
   "cell_type": "code",
   "execution_count": 78,
   "id": "089b0a58",
   "metadata": {},
   "outputs": [],
   "source": [
    "# Changing suspicious column value to 1 of suspicious employees\n",
    "employee_data.loc[sus_emp_slice,'SUSPICIOUS']=1"
   ]
  },
  {
   "cell_type": "code",
   "execution_count": 79,
   "id": "15255f0f",
   "metadata": {},
   "outputs": [
    {
     "data": {
      "text/plain": [
       "0.12416666666666666"
      ]
     },
     "execution_count": 79,
     "metadata": {},
     "output_type": "execute_result"
    }
   ],
   "source": [
    "employee_data['SUSPICIOUS'].mean()"
   ]
  },
  {
   "cell_type": "markdown",
   "id": "2f2dec2a",
   "metadata": {},
   "source": [
    "**The mean of suspicious column is 0.124167 that means from all employees 12.42% are suspicious**"
   ]
  },
  {
   "cell_type": "code",
   "execution_count": null,
   "id": "a4b573c9",
   "metadata": {},
   "outputs": [],
   "source": []
  },
  {
   "cell_type": "code",
   "execution_count": null,
   "id": "99468c60",
   "metadata": {},
   "outputs": [],
   "source": []
  }
 ],
 "metadata": {
  "kernelspec": {
   "display_name": "Python 3",
   "language": "python",
   "name": "python3"
  },
  "language_info": {
   "codemirror_mode": {
    "name": "ipython",
    "version": 3
   },
   "file_extension": ".py",
   "mimetype": "text/x-python",
   "name": "python",
   "nbconvert_exporter": "python",
   "pygments_lexer": "ipython3",
   "version": "3.8.8"
  }
 },
 "nbformat": 4,
 "nbformat_minor": 5
}
